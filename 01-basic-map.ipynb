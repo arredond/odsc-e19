{
 "cells": [
  {
   "cell_type": "markdown",
   "metadata": {},
   "source": [
    "# Importing and Plotting a CSV with latitude/longitude columns\n",
    "\n",
    "First, we'll be loading and plotting Natural Earth's Populated Places dataset, in CSV format.\n",
    "\n",
    "### With GeoPandas"
   ]
  },
  {
   "cell_type": "code",
   "execution_count": null,
   "metadata": {},
   "outputs": [],
   "source": [
    "import pandas as pd\n",
    "import geopandas as gpd\n",
    "\n",
    "from shapely.geometry import Point\n",
    "\n",
    "%matplotlib inline"
   ]
  },
  {
   "cell_type": "code",
   "execution_count": null,
   "metadata": {},
   "outputs": [],
   "source": [
    "df = pd.read_csv('data/ne_populated_places.csv')\n",
    "gdf = gpd.GeoDataFrame(\n",
    "    df,\n",
    "    geometry=df.apply(lambda row: Point(row['longitude'], row['latitude']),axis=1),\n",
    "    crs=4326\n",
    ")\n",
    "\n",
    "gdf.plot()"
   ]
  },
  {
   "cell_type": "markdown",
   "metadata": {},
   "source": [
    "### With CARTOFrames"
   ]
  },
  {
   "cell_type": "code",
   "execution_count": null,
   "metadata": {},
   "outputs": [],
   "source": [
    "from cartoframes.data import Dataset\n",
    "from cartoframes.viz import Map, Layer"
   ]
  },
  {
   "cell_type": "code",
   "execution_count": null,
   "metadata": {},
   "outputs": [],
   "source": [
    "df = pd.read_csv('data/ne_populated_places.csv')\n",
    "Map(Layer(Dataset(df)))"
   ]
  },
  {
   "cell_type": "markdown",
   "metadata": {},
   "source": [
    "# Importing and plotting a GeoPackage\n",
    "\n",
    "Next, we'll load a GeoPackage of Natural Earth's `countries` dataset.\n",
    "\n",
    "#### With GeoPandas"
   ]
  },
  {
   "cell_type": "code",
   "execution_count": null,
   "metadata": {},
   "outputs": [],
   "source": [
    "gdf = gpd.read_file('data/ne_countries.gpkg')\n",
    "gdf.plot()"
   ]
  },
  {
   "cell_type": "markdown",
   "metadata": {},
   "source": [
    "#### With GeoPandas and CARTOFrames.\n",
    "\n",
    "We'll add a `popup` to the `Layer` to show the country's name."
   ]
  },
  {
   "cell_type": "code",
   "execution_count": null,
   "metadata": {},
   "outputs": [],
   "source": [
    "gdf = gpd.read_file('data/ne_countries.gpkg')\n",
    "Map(\n",
    "    Layer(\n",
    "        Dataset(gdf),\n",
    "        popup={'hover': '$NAME'}\n",
    "    )\n",
    ")"
   ]
  }
 ],
 "metadata": {
  "kernelspec": {
   "display_name": "Python 3",
   "language": "python",
   "name": "python3"
  },
  "language_info": {
   "codemirror_mode": {
    "name": "ipython",
    "version": 3
   },
   "file_extension": ".py",
   "mimetype": "text/x-python",
   "name": "python",
   "nbconvert_exporter": "python",
   "pygments_lexer": "ipython3",
   "version": "3.7.4"
  }
 },
 "nbformat": 4,
 "nbformat_minor": 4
}
