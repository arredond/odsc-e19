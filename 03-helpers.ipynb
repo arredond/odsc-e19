{
 "cells": [
  {
   "cell_type": "code",
   "execution_count": null,
   "metadata": {},
   "outputs": [],
   "source": [
    "import pandas as pd\n",
    "import geopandas as gpd\n",
    "\n",
    "from cartoframes.data import Dataset\n",
    "from cartoframes.viz import Layout, Map\n",
    "from cartoframes.viz.helpers import color_category_layer, color_continuous_layer, size_continuous_layer"
   ]
  },
  {
   "cell_type": "code",
   "execution_count": null,
   "metadata": {},
   "outputs": [],
   "source": [
    "pp = pd.read_csv('data/ne_populated_places.csv')\n",
    "\n",
    "size_continuous_layer(pp, 'POP2010', widget=True)"
   ]
  },
  {
   "cell_type": "code",
   "execution_count": null,
   "metadata": {},
   "outputs": [],
   "source": [
    "countries = gpd.read_file('data/ne_countries.gpkg')\n",
    "\n",
    "Layout([\n",
    "    Map(color_category_layer(countries, 'REGION_UN', opacity=0.8)),\n",
    "    Map(color_category_layer(countries, 'REGION_WB', opacity=0.8))\n",
    "], n_size=2, map_height=600)"
   ]
  }
 ],
 "metadata": {
  "kernelspec": {
   "display_name": "Python 3",
   "language": "python",
   "name": "python3"
  },
  "language_info": {
   "codemirror_mode": {
    "name": "ipython",
    "version": 3
   },
   "file_extension": ".py",
   "mimetype": "text/x-python",
   "name": "python",
   "nbconvert_exporter": "python",
   "pygments_lexer": "ipython3",
   "version": "3.7.4"
  }
 },
 "nbformat": 4,
 "nbformat_minor": 4
}
