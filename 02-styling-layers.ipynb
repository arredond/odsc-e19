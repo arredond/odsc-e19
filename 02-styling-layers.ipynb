{
 "cells": [
  {
   "cell_type": "markdown",
   "metadata": {},
   "source": [
    "# Styling Layers and Maps"
   ]
  },
  {
   "cell_type": "code",
   "execution_count": null,
   "metadata": {},
   "outputs": [],
   "source": [
    "import pandas as pd\n",
    "\n",
    "from cartoframes.viz import Map, Layer"
   ]
  },
  {
   "cell_type": "markdown",
   "metadata": {},
   "source": [
    "### Widgets"
   ]
  },
  {
   "cell_type": "code",
   "execution_count": null,
   "metadata": {},
   "outputs": [],
   "source": [
    "seattle_collisions = pd.read_csv('data/seattle_collisions.csv')\n",
    "\n",
    "from cartoframes.viz.widgets import formula_widget, category_widget\n",
    "\n",
    "Map(\n",
    "    Layer(\n",
    "        seattle_collisions,\n",
    "        widgets=[\n",
    "            formula_widget(\n",
    "                'pedcount',\n",
    "                'sum',\n",
    "                title='Pedestrians Involved'\n",
    "            ),\n",
    "            formula_widget(\n",
    "                'pedcylcount',\n",
    "                'sum',\n",
    "                title='Cyclists Involved'\n",
    "            ),\n",
    "            category_widget(\n",
    "                'collisiontype',\n",
    "                title='Collision Type'\n",
    "            )\n",
    "        ]\n",
    "    )\n",
    ")"
   ]
  },
  {
   "cell_type": "markdown",
   "metadata": {},
   "source": [
    "### Layers and Maps\n",
    "\n",
    "`Layer` structure:\n",
    "\n",
    "```\n",
    "Layer(\n",
    "    source=...,\n",
    "    style=...,\n",
    "    legend=...,\n",
    "    widgets=...\n",
    ")\n",
    "```\n",
    "\n",
    "- `source` can be a `DataFrame`, `GeoDataFrame` or CartoFrames' `Dataset` (table or query).\n",
    "- `style` takes a [CartoVL styling expression](https://carto.com/developers/carto-vl/guides/style-with-expressions/)\n",
    "- `popup` can be a `Popup` object, or a dict with `hover` and/or `click` as keys\n",
    "- `legend` can be a `Legend` object, or just a simple dictionary\n",
    "- `widgets` takes list of `Widget` objects\n",
    "\n",
    "`Map`s allow you to add several layers, select the basemap, set a viewport, and others."
   ]
  },
  {
   "cell_type": "code",
   "execution_count": null,
   "metadata": {},
   "outputs": [],
   "source": [
    "from cartoframes.viz import Widget, basemaps\n",
    "\n",
    "df = pd.read_csv('data/maxhi_20190717_72.csv')\n",
    "\n",
    "Map ([\n",
    "    Layer(\n",
    "        df,\n",
    "        '''\n",
    "            color: ramp(linear($value,globalMIN($value),globalMAX($value)),[turquoise, yellow, red])\n",
    "            filter: animation(linear($value,globalMIN($value),globalMAX($value)), 20, fade(0.1, hold))\n",
    "            strokeWidth: 0\n",
    "            width: 4\n",
    "        ''',\n",
    "        legend={\n",
    "            'type':'color-continuous-polygon',\n",
    "            'title': 'Max Heat Index for July 20, 2019',\n",
    "            'description': 'Degrees (°F)',\n",
    "            'footer': 'Issued: 7/17/19 | Source: NOAA Weather Predicition Center'\n",
    "        },\n",
    "        widgets=[\n",
    "                Widget(\n",
    "                    'formula',\n",
    "                    value='viewportMAX($value)',\n",
    "                    title='Max Degrees (°F)',\n",
    "                ),\n",
    "                Widget('time-series', value='value', title='Animation by Temperature'),\n",
    "          \n",
    "        ],\n",
    "    )\n",
    "    ],\n",
    "    basemap=basemaps.darkmatter,\n",
    "    show_info=True,\n",
    "    viewport={'zoom': 2.5, 'lat': 37.572586, 'lng': -110.638529},\n",
    ")"
   ]
  }
 ],
 "metadata": {
  "kernelspec": {
   "display_name": "Python 3",
   "language": "python",
   "name": "python3"
  },
  "language_info": {
   "codemirror_mode": {
    "name": "ipython",
    "version": 3
   },
   "file_extension": ".py",
   "mimetype": "text/x-python",
   "name": "python",
   "nbconvert_exporter": "python",
   "pygments_lexer": "ipython3",
   "version": "3.7.4"
  }
 },
 "nbformat": 4,
 "nbformat_minor": 4
}
